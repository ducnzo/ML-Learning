{
 "cells": [
  {
   "cell_type": "markdown",
   "metadata": {},
   "source": [
    "# GANs - Genarative Adversarial Networks - Introduction"
   ]
  },
  {
   "cell_type": "markdown",
   "metadata": {},
   "source": [
    "GAN is a deep neural network consisted of a generator (bộ tạo) nerwork and a discriminator network (bộ phân biệt). "
   ]
  },
  {
   "cell_type": "markdown",
   "metadata": {},
   "source": [
    "Bộ Discriminator sẽ nhận vào 2 input:\n",
    "- ảnh Data real từ tệp Train\n",
    "- ảnh fake được tạo từ bộ Generator.\n",
    "Mục đích để so sánh giữa hai thằng input để cho thằng Discriminator phân biệt được đâu là thật đâu là fake.\n",
    "\n",
    "Nếu thằng Discriminator phản hồi lại đây là ảnh fake, khác với ảnh real mà Dis được học. Thì nó sẽ tạo ra một cái hàm Classification Loss và thằng Dis sẽ học để phân biệt giả tốt hơn. \n",
    "Cùng lúc cái Loss đó nó đẩy lại Generator để làm cho thằng Generator thông minh hơn, mục đích là tạo ra một cái ảnh fake giống ảnh thật nhất có thể. \n",
    "Tiếp tục như vậy cho đến khi thằng Discriminator không thể phân biệt được đâu là ảnh thật từ Data train đâu là ảnh fake do thằng Generator tạo ra. \n",
    "Lúc đó mình sẽ lấy data từ thằng Generator để kết hợp với bộ DataSet để ấn vào model để train. \n",
    "\n",
    "Mục đích chính của việc thực hành này là bước augmentation (làm giàu dữ liệu). Vì như vậy mình sẽ tạo ra một tệp augmentation mà gần giống nhất với tệp train data. \n",
    "\n",
    "Sau đó ta có thể so sánh việc augmentation bình thường và augmentation bằng GANs xem kết quả thực nghiệm cái nào tốt hơn. \n",
    "\n",
    "Để check xem bộ Generator có giống bộ Dataset Train hay không thì mình có thể ấn vào mạng để train 2 bộ data:\n",
    "- 1 bộ từ Data gốc\n",
    "- 1 bộ chỉ có data GANs từ Generator. \n",
    "\n",
    "Sau đó so sánh kết quả của hai cái. Lúc đấy sẽ biết là có thật hay không. "
   ]
  },
  {
   "cell_type": "markdown",
   "metadata": {},
   "source": [
    "![imgs](./images/Typical-Generative-Adversarial-Networks-GAN-architecture.png)"
   ]
  }
 ],
 "metadata": {
  "language_info": {
   "name": "python"
  },
  "orig_nbformat": 4
 },
 "nbformat": 4,
 "nbformat_minor": 2
}
